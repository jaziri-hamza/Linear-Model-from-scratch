{
 "cells": [
  {
   "cell_type": "code",
   "execution_count": 1,
   "metadata": {},
   "outputs": [],
   "source": [
    "import matplotlib.pyplot as plt\n",
    "import numpy as np\n",
    "from sys import path\n",
    "path.append('..')\n",
    "from mylib.models import LogisticRegression"
   ]
  },
  {
   "cell_type": "markdown",
   "metadata": {},
   "source": [
    "###### some fake data"
   ]
  },
  {
   "cell_type": "code",
   "execution_count": 2,
   "metadata": {},
   "outputs": [],
   "source": [
    "X = np.random.rand(50,2)\n",
    "Y = np.zeros((50,1))\n",
    "for i in range(X.shape[0]):\n",
    "    if(X[i,1]) > .5 :\n",
    "        Y[i] = 1"
   ]
  },
  {
   "cell_type": "code",
   "execution_count": 3,
   "metadata": {},
   "outputs": [],
   "source": [
    "logistic_reg = LogisticRegression(X,Y, intercept=True)\n",
    "logistic_reg.fit(iter=100, learning_rate=0.1,history=True)"
   ]
  },
  {
   "cell_type": "code",
   "execution_count": 4,
   "metadata": {},
   "outputs": [],
   "source": [
    "Y_pred = logistic_reg.predict(X)"
   ]
  },
  {
   "cell_type": "code",
   "execution_count": 5,
   "metadata": {},
   "outputs": [
    {
     "name": "stdout",
     "output_type": "stream",
     "text": [
      "accuary : \n",
      "1.0\n"
     ]
    }
   ],
   "source": [
    "from mylib.metrics import accuracy\n",
    "print(\"accuary : \")\n",
    "print(accuracy(Y, Y_pred))"
   ]
  },
  {
   "cell_type": "code",
   "execution_count": 6,
   "metadata": {},
   "outputs": [],
   "source": [
    "def getColor(indice, Y):\n",
    "    if(Y[indice] == 1):\n",
    "        return 'red'\n",
    "    else:\n",
    "        return 'blue'"
   ]
  },
  {
   "cell_type": "code",
   "execution_count": 7,
   "metadata": {},
   "outputs": [
    {
     "data": {
      "image/png": "[encoded data removed]",
      "text/plain": [
       "<Figure size 432x288 with 1 Axes>"
      ]
     },
     "metadata": {
      "needs_background": "light"
     },
     "output_type": "display_data"
    }
   ],
   "source": [
    "costplot = plt.subplot()\n",
    "costplot.plot(logistic_reg.history)\n",
    "plt.show()"
   ]
  },
  {
   "cell_type": "code",
   "execution_count": 8,
   "metadata": {},
   "outputs": [
    {
     "data": {
      "image/png": "[encoded data removed]",
      "text/plain": [
       "<Figure size 432x288 with 1 Axes>"
      ]
     },
     "metadata": {
      "needs_background": "light"
     },
     "output_type": "display_data"
    }
   ],
   "source": [
    "x = plt.subplot()\n",
    "for i in range(X.shape[0]):\n",
    "    x.scatter(X[i,0], X[i,1], c=getColor(i, Y), marker=\".\")\n",
    "\n",
    "w = logistic_reg._W\n",
    "a = -w[0] / w[1]\n",
    "xx = np.linspace(0, 1)\n",
    "yy = a * xx - ( w[2] / w[1])\n",
    "x.plot(xx, yy, 'k-')\n",
    "plt.show()"
   ]
  },
  {
   "cell_type": "code",
   "execution_count": null,
   "metadata": {},
   "outputs": [],
   "source": []
  }
 ],
 "metadata": {
  "kernelspec": {
   "display_name": "Python 3",
   "language": "python",
   "name": "python3"
  },
  "language_info": {
   "codemirror_mode": {
    "name": "ipython",
    "version": 3
   },
   "file_extension": ".py",
   "mimetype": "text/x-python",
   "name": "python",
   "nbconvert_exporter": "python",
   "pygments_lexer": "ipython3",
   "version": "3.6.9"
  }
 },
 "nbformat": 4,
 "nbformat_minor": 4
}
